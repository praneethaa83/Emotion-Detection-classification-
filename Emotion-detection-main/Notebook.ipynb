{
 "cells": [
  {
   "cell_type": "markdown",
   "id": "050287c9",
   "metadata": {},
   "source": [
    "#### Importing Libraries Used"
   ]
  },
  {
   "cell_type": "code",
   "execution_count": 48,
   "id": "29c78f96",
   "metadata": {},
   "outputs": [],
   "source": [
    "import pandas as pd\n",
    "import pandas as np\n",
    "import matplotlib.pyplot as plt\n",
    "import seaborn as sns\n",
    "import string\n",
    "from num2words import num2words\n",
    "import unidecode\n",
    "import re\n",
    "from nltk.stem import WordNetLemmatizer\n",
    "from nltk.tokenize import word_tokenize\n",
    "from nltk.tokenize import RegexpTokenizer\n",
    "from sklearn.model_selection import train_test_split\n",
    "from sklearn.feature_extraction.text import TfidfVectorizer\n",
    "from sklearn.linear_model import LogisticRegression\n",
    "from sklearn import naive_bayes\n",
    "from sklearn.tree import DecisionTreeClassifier\n",
    "from sklearn.ensemble import RandomForestClassifier\n",
    "from sklearn.svm import LinearSVC\n",
    "from sklearn.ensemble import AdaBoostClassifier\n",
    "from sklearn.linear_model import PassiveAggressiveClassifier\n",
    "from sklearn.ensemble import GradientBoostingClassifier\n",
    "from sklearn.metrics import accuracy_score,f1_score,confusion_matrix\n",
    "from sklearn.metrics import classification_report\n",
    "from keras.models import Sequential\n",
    "from keras.layers import Dense, Dropout\n",
    "from keras.wrappers.scikit_learn import KerasClassifier\n",
    "from keras.utils import np_utils\n",
    "import pickle"
   ]
  },
  {
   "cell_type": "markdown",
   "id": "a6b4baea",
   "metadata": {},
   "source": [
    "##### Reading the Dataset"
   ]
  },
  {
   "cell_type": "code",
   "execution_count": 3,
   "id": "01ad9b57",
   "metadata": {},
   "outputs": [
    {
     "data": {
      "text/html": [
       "<div>\n",
       "<style scoped>\n",
       "    .dataframe tbody tr th:only-of-type {\n",
       "        vertical-align: middle;\n",
       "    }\n",
       "\n",
       "    .dataframe tbody tr th {\n",
       "        vertical-align: top;\n",
       "    }\n",
       "\n",
       "    .dataframe thead th {\n",
       "        text-align: right;\n",
       "    }\n",
       "</style>\n",
       "<table border=\"1\" class=\"dataframe\">\n",
       "  <thead>\n",
       "    <tr style=\"text-align: right;\">\n",
       "      <th></th>\n",
       "      <th>text</th>\n",
       "      <th>label</th>\n",
       "    </tr>\n",
       "  </thead>\n",
       "  <tbody>\n",
       "    <tr>\n",
       "      <th>0</th>\n",
       "      <td>Just got back from seeing @GaryDelaney in Burs...</td>\n",
       "      <td>joy</td>\n",
       "    </tr>\n",
       "    <tr>\n",
       "      <th>1</th>\n",
       "      <td>Oh dear an evening of absolute hilarity I don'...</td>\n",
       "      <td>joy</td>\n",
       "    </tr>\n",
       "    <tr>\n",
       "      <th>2</th>\n",
       "      <td>Been waiting all week for this game ❤️❤️❤️ #ch...</td>\n",
       "      <td>joy</td>\n",
       "    </tr>\n",
       "    <tr>\n",
       "      <th>3</th>\n",
       "      <td>@gardiner_love : Thank you so much, Gloria! Yo...</td>\n",
       "      <td>joy</td>\n",
       "    </tr>\n",
       "    <tr>\n",
       "      <th>4</th>\n",
       "      <td>I feel so blessed to work with the family that...</td>\n",
       "      <td>joy</td>\n",
       "    </tr>\n",
       "    <tr>\n",
       "      <th>5</th>\n",
       "      <td>Today I reached 1000 subscribers on YT!! , #go...</td>\n",
       "      <td>joy</td>\n",
       "    </tr>\n",
       "    <tr>\n",
       "      <th>6</th>\n",
       "      <td>@Singaholic 121 Good morning, love! Happy firs...</td>\n",
       "      <td>joy</td>\n",
       "    </tr>\n",
       "    <tr>\n",
       "      <th>7</th>\n",
       "      <td>#BridgetJonesBaby is the best thing I've seen ...</td>\n",
       "      <td>joy</td>\n",
       "    </tr>\n",
       "    <tr>\n",
       "      <th>8</th>\n",
       "      <td>Just got back from seeing @GaryDelaney in Burs...</td>\n",
       "      <td>joy</td>\n",
       "    </tr>\n",
       "    <tr>\n",
       "      <th>9</th>\n",
       "      <td>@IndyMN I thought the holidays could not get a...</td>\n",
       "      <td>joy</td>\n",
       "    </tr>\n",
       "  </tbody>\n",
       "</table>\n",
       "</div>"
      ],
      "text/plain": [
       "                                                text label\n",
       "0  Just got back from seeing @GaryDelaney in Burs...   joy\n",
       "1  Oh dear an evening of absolute hilarity I don'...   joy\n",
       "2  Been waiting all week for this game ❤️❤️❤️ #ch...   joy\n",
       "3  @gardiner_love : Thank you so much, Gloria! Yo...   joy\n",
       "4  I feel so blessed to work with the family that...   joy\n",
       "5  Today I reached 1000 subscribers on YT!! , #go...   joy\n",
       "6  @Singaholic 121 Good morning, love! Happy firs...   joy\n",
       "7  #BridgetJonesBaby is the best thing I've seen ...   joy\n",
       "8  Just got back from seeing @GaryDelaney in Burs...   joy\n",
       "9  @IndyMN I thought the holidays could not get a...   joy"
      ]
     },
     "execution_count": 3,
     "metadata": {},
     "output_type": "execute_result"
    }
   ],
   "source": [
    "data=pd.read_csv('train dataset.csv')\n",
    "data.head(10)"
   ]
  },
  {
   "cell_type": "markdown",
   "id": "90e31caa",
   "metadata": {},
   "source": [
    "##### Data Properties"
   ]
  },
  {
   "cell_type": "code",
   "execution_count": 4,
   "id": "da57c511",
   "metadata": {},
   "outputs": [
    {
     "name": "stdout",
     "output_type": "stream",
     "text": [
      "text     object\n",
      "label    object\n",
      "dtype: object\n"
     ]
    }
   ],
   "source": [
    "print(data.dtypes)"
   ]
  },
  {
   "cell_type": "code",
   "execution_count": 5,
   "id": "989f4db9",
   "metadata": {},
   "outputs": [
    {
     "name": "stdout",
     "output_type": "stream",
     "text": [
      "(3613, 2)\n"
     ]
    }
   ],
   "source": [
    "print(data.shape)"
   ]
  },
  {
   "cell_type": "markdown",
   "id": "986c1461",
   "metadata": {},
   "source": [
    "##### Checking for Null Values in dataset"
   ]
  },
  {
   "cell_type": "code",
   "execution_count": 6,
   "id": "3607a2c7",
   "metadata": {},
   "outputs": [
    {
     "name": "stdout",
     "output_type": "stream",
     "text": [
      "text     0\n",
      "label    0\n",
      "dtype: int64\n"
     ]
    }
   ],
   "source": [
    "print(data.isnull().sum())"
   ]
  },
  {
   "cell_type": "code",
   "execution_count": 7,
   "id": "e19c5a2b",
   "metadata": {},
   "outputs": [
    {
     "name": "stdout",
     "output_type": "stream",
     "text": [
      "text     0\n",
      "label    0\n",
      "dtype: int64\n"
     ]
    }
   ],
   "source": [
    "print(data.isna().sum())"
   ]
  },
  {
   "cell_type": "markdown",
   "id": "015c3a27",
   "metadata": {},
   "source": [
    "##### Unique value in target"
   ]
  },
  {
   "cell_type": "code",
   "execution_count": 8,
   "id": "a6ddaecd",
   "metadata": {},
   "outputs": [
    {
     "name": "stdout",
     "output_type": "stream",
     "text": [
      "4\n"
     ]
    }
   ],
   "source": [
    "print(data['label'].nunique())"
   ]
  },
  {
   "cell_type": "code",
   "execution_count": 9,
   "id": "c5b36941",
   "metadata": {},
   "outputs": [
    {
     "name": "stdout",
     "output_type": "stream",
     "text": [
      "['joy' 'fear' 'anger' 'sadness']\n"
     ]
    }
   ],
   "source": [
    "print(data['label'].unique())"
   ]
  },
  {
   "cell_type": "markdown",
   "id": "01a6e243",
   "metadata": {},
   "source": [
    "##### Creating hashmap to store each label and its frequency"
   ]
  },
  {
   "cell_type": "code",
   "execution_count": 10,
   "id": "57bdfa8d",
   "metadata": {},
   "outputs": [],
   "source": [
    "dic={'joy':0,'fear':0,'anger':0,'sadness':0}\n",
    "for i in data['label']:\n",
    "    dic[i]=dic[i]+1"
   ]
  },
  {
   "cell_type": "code",
   "execution_count": 11,
   "id": "5da72017",
   "metadata": {},
   "outputs": [
    {
     "name": "stdout",
     "output_type": "stream",
     "text": [
      "{'joy': 823, 'fear': 1147, 'anger': 857, 'sadness': 786}\n"
     ]
    }
   ],
   "source": [
    "print(dic)"
   ]
  },
  {
   "cell_type": "code",
   "execution_count": 12,
   "id": "9cd9fdf5",
   "metadata": {},
   "outputs": [
    {
     "name": "stdout",
     "output_type": "stream",
     "text": [
      "joy 22.78\n",
      "fear 31.75\n",
      "anger 23.72\n",
      "sadness 21.75\n"
     ]
    }
   ],
   "source": [
    "n=len(data)\n",
    "for i in data['label'].unique():\n",
    "    print(i, round((dic[i]/n)*100,2))"
   ]
  },
  {
   "cell_type": "code",
   "execution_count": 13,
   "id": "ee600e9c",
   "metadata": {},
   "outputs": [
    {
     "data": {
      "image/png": "[encoded data removed]",
      "text/plain": [
       "<Figure size 432x288 with 1 Axes>"
      ]
     },
     "metadata": {
      "needs_background": "light"
     },
     "output_type": "display_data"
    }
   ],
   "source": [
    "x=list(dic.keys())\n",
    "y=list(dic.values())\n",
    "plt.bar(range(len(dic)),y,tick_label=x,color='violet')\n",
    "plt.title('Target Label Vs Frequency')\n",
    "plt.xlabel('Target Label')\n",
    "plt.ylabel('Frequency')\n",
    "plt.show()"
   ]
  },
  {
   "cell_type": "markdown",
   "id": "8991eefe",
   "metadata": {},
   "source": [
    "##### This shows that the dataset is balanced dataset"
   ]
  },
  {
   "cell_type": "markdown",
   "id": "d65061fd",
   "metadata": {},
   "source": [
    "##### Data Pre-Processing and Exploratory Data Analysis"
   ]
  },
  {
   "cell_type": "markdown",
   "id": "8cf8031c",
   "metadata": {},
   "source": [
    "##### Converting text into lowercase"
   ]
  },
  {
   "cell_type": "code",
   "execution_count": 14,
   "id": "040c3256",
   "metadata": {},
   "outputs": [],
   "source": [
    "def convert_lowercase(sent):\n",
    "    sent=sent.lower()\n",
    "    return sent"
   ]
  },
  {
   "cell_type": "code",
   "execution_count": 15,
   "id": "f4960332",
   "metadata": {},
   "outputs": [],
   "source": [
    "data['text']=data['text'].apply(convert_lowercase)"
   ]
  },
  {
   "cell_type": "markdown",
   "id": "e4c8093e",
   "metadata": {},
   "source": [
    "##### Removing punctuations in text column"
   ]
  },
  {
   "cell_type": "code",
   "execution_count": 16,
   "id": "a7648a70",
   "metadata": {},
   "outputs": [],
   "source": [
    "def remove_punctuation(sen):\n",
    "    for punctuations in string.punctuation:\n",
    "        sen=sen.replace(punctuations,'')\n",
    "    return sen"
   ]
  },
  {
   "cell_type": "code",
   "execution_count": 17,
   "id": "bd8dcbb7",
   "metadata": {},
   "outputs": [],
   "source": [
    "data['text']=data['text'].apply(remove_punctuation)"
   ]
  },
  {
   "cell_type": "markdown",
   "id": "b19a22b0",
   "metadata": {},
   "source": [
    "##### Convert Number to Words"
   ]
  },
  {
   "cell_type": "code",
   "execution_count": 18,
   "id": "3b6f4d04",
   "metadata": {},
   "outputs": [],
   "source": [
    "def num_to_words(text):\n",
    "    # splitting text into words with space\n",
    "    after_spliting = text.split()\n",
    "\n",
    "    for index in range(len(after_spliting)):\n",
    "        if after_spliting[index].isdigit():\n",
    "            after_spliting[index] = num2words(after_spliting[index])\n",
    "\n",
    "    # joining list into string with space\n",
    "    numbers_to_words = ' '.join(after_spliting)\n",
    "    return numbers_to_words"
   ]
  },
  {
   "cell_type": "code",
   "execution_count": 19,
   "id": "a90afa26",
   "metadata": {},
   "outputs": [],
   "source": [
    "data['text']=data['text'].apply(num_to_words)"
   ]
  },
  {
   "cell_type": "markdown",
   "id": "675332ac",
   "metadata": {},
   "source": [
    "##### Again removing punctuation due to applying number to word function, It may contain '-' between words"
   ]
  },
  {
   "cell_type": "code",
   "execution_count": 20,
   "id": "cc102a42",
   "metadata": {},
   "outputs": [],
   "source": [
    "data['text']=data['text'].apply(remove_punctuation)"
   ]
  },
  {
   "cell_type": "code",
   "execution_count": 21,
   "id": "2d11c30f",
   "metadata": {},
   "outputs": [
    {
     "data": {
      "text/html": [
       "<div>\n",
       "<style scoped>\n",
       "    .dataframe tbody tr th:only-of-type {\n",
       "        vertical-align: middle;\n",
       "    }\n",
       "\n",
       "    .dataframe tbody tr th {\n",
       "        vertical-align: top;\n",
       "    }\n",
       "\n",
       "    .dataframe thead th {\n",
       "        text-align: right;\n",
       "    }\n",
       "</style>\n",
       "<table border=\"1\" class=\"dataframe\">\n",
       "  <thead>\n",
       "    <tr style=\"text-align: right;\">\n",
       "      <th></th>\n",
       "      <th>text</th>\n",
       "      <th>label</th>\n",
       "    </tr>\n",
       "  </thead>\n",
       "  <tbody>\n",
       "    <tr>\n",
       "      <th>0</th>\n",
       "      <td>just got back from seeing garydelaney in bursl...</td>\n",
       "      <td>joy</td>\n",
       "    </tr>\n",
       "    <tr>\n",
       "      <th>1</th>\n",
       "      <td>oh dear an evening of absolute hilarity i dont...</td>\n",
       "      <td>joy</td>\n",
       "    </tr>\n",
       "    <tr>\n",
       "      <th>2</th>\n",
       "      <td>been waiting all week for this game ❤️❤️❤️ che...</td>\n",
       "      <td>joy</td>\n",
       "    </tr>\n",
       "    <tr>\n",
       "      <th>3</th>\n",
       "      <td>gardinerlove thank you so much gloria youre so...</td>\n",
       "      <td>joy</td>\n",
       "    </tr>\n",
       "    <tr>\n",
       "      <th>4</th>\n",
       "      <td>i feel so blessed to work with the family that...</td>\n",
       "      <td>joy</td>\n",
       "    </tr>\n",
       "    <tr>\n",
       "      <th>5</th>\n",
       "      <td>today i reached one thousand subscribers on yt...</td>\n",
       "      <td>joy</td>\n",
       "    </tr>\n",
       "    <tr>\n",
       "      <th>6</th>\n",
       "      <td>singaholic one hundred and twentyone good morn...</td>\n",
       "      <td>joy</td>\n",
       "    </tr>\n",
       "    <tr>\n",
       "      <th>7</th>\n",
       "      <td>bridgetjonesbaby is the best thing ive seen in...</td>\n",
       "      <td>joy</td>\n",
       "    </tr>\n",
       "    <tr>\n",
       "      <th>8</th>\n",
       "      <td>just got back from seeing garydelaney in bursl...</td>\n",
       "      <td>joy</td>\n",
       "    </tr>\n",
       "    <tr>\n",
       "      <th>9</th>\n",
       "      <td>indymn i thought the holidays could not get an...</td>\n",
       "      <td>joy</td>\n",
       "    </tr>\n",
       "  </tbody>\n",
       "</table>\n",
       "</div>"
      ],
      "text/plain": [
       "                                                text label\n",
       "0  just got back from seeing garydelaney in bursl...   joy\n",
       "1  oh dear an evening of absolute hilarity i dont...   joy\n",
       "2  been waiting all week for this game ❤️❤️❤️ che...   joy\n",
       "3  gardinerlove thank you so much gloria youre so...   joy\n",
       "4  i feel so blessed to work with the family that...   joy\n",
       "5  today i reached one thousand subscribers on yt...   joy\n",
       "6  singaholic one hundred and twentyone good morn...   joy\n",
       "7  bridgetjonesbaby is the best thing ive seen in...   joy\n",
       "8  just got back from seeing garydelaney in bursl...   joy\n",
       "9  indymn i thought the holidays could not get an...   joy"
      ]
     },
     "execution_count": 21,
     "metadata": {},
     "output_type": "execute_result"
    }
   ],
   "source": [
    "data.head(10)"
   ]
  },
  {
   "cell_type": "markdown",
   "id": "c9ed0143",
   "metadata": {},
   "source": [
    "##### Convert Accented Characters to ASCII Characters"
   ]
  },
  {
   "cell_type": "code",
   "execution_count": 22,
   "id": "67d2aa30",
   "metadata": {},
   "outputs": [],
   "source": [
    "def to_ascii(x):\n",
    "    x = unidecode.unidecode(x)\n",
    "    return x"
   ]
  },
  {
   "cell_type": "code",
   "execution_count": 23,
   "id": "2e6d5f9e",
   "metadata": {},
   "outputs": [],
   "source": [
    "data['text']=data['text'].apply(to_ascii)"
   ]
  },
  {
   "cell_type": "markdown",
   "id": "b01d6fad",
   "metadata": {},
   "source": [
    "##### Convert sms language into correct words"
   ]
  },
  {
   "cell_type": "code",
   "execution_count": 24,
   "id": "aaf24ebe",
   "metadata": {},
   "outputs": [],
   "source": [
    "short_form_list = open('slang.txt', 'r')\n",
    "chat_words_str = short_form_list.read()\n",
    "\n",
    "chat_words_map_dict = []\n",
    "chat_words_list = []\n",
    "for line in chat_words_str.split(\"\\n\"):\n",
    "    if line != \" \":\n",
    "        s=line.split('=')\n",
    "        chat_words_map_dict.append(s)\n",
    "        chat_words_list.append(s[0])\n",
    "        "
   ]
  },
  {
   "cell_type": "code",
   "execution_count": 25,
   "id": "bf6a2cc8",
   "metadata": {},
   "outputs": [],
   "source": [
    "def short_to_original(text):\n",
    "\n",
    "    new_text = []\n",
    "    for w in text.split():\n",
    "        if w.upper() in chat_words_list:\n",
    "            for i in chat_words_map_dict:\n",
    "                if i[0]==w.upper():\n",
    "                    new_text.append(i[1])\n",
    "        else:\n",
    "            new_text.append(w)\n",
    "    return \" \".join(new_text)"
   ]
  },
  {
   "cell_type": "code",
   "execution_count": 26,
   "id": "370e4857",
   "metadata": {},
   "outputs": [],
   "source": [
    "data['text']=data['text'].apply(short_to_original)"
   ]
  },
  {
   "cell_type": "markdown",
   "id": "bc2949cd",
   "metadata": {},
   "source": [
    "##### Removing Emoji's in text"
   ]
  },
  {
   "cell_type": "code",
   "execution_count": 27,
   "id": "5cf6f963",
   "metadata": {},
   "outputs": [],
   "source": [
    "def remove_emojis(text):\n",
    "\n",
    "    emoji_pattern = re.compile(\"[\"\n",
    "                               u\"\\U0001F600-\\U0001F64F\"  # emoticons\n",
    "                               u\"\\U0001F300-\\U0001F5FF\"  # symbols & pictographs\n",
    "                               u\"\\U0001F680-\\U0001F6FF\"  # transport & map symbols\n",
    "                               u\"\\U0001F1E0-\\U0001F1FF\"  # flags (iOS)\n",
    "                               u\"\\U00002500-\\U00002BEF\"  # chinese char\n",
    "                               u\"\\U00002702-\\U000027B0\"\n",
    "                               u\"\\U00002702-\\U000027B0\"\n",
    "                               u\"\\U000024C2-\\U0001F251\"\n",
    "                               u\"\\U0001f926-\\U0001f937\"\n",
    "                               u\"\\U00010000-\\U0010ffff\"\n",
    "                               u\"\\u2640-\\u2642\"\n",
    "                               u\"\\u2600-\\u2B55\"\n",
    "                               u\"\\u200d\"\n",
    "                               u\"\\u23cf\"\n",
    "                               u\"\\u23e9\"\n",
    "                               u\"\\u231a\"\n",
    "                               u\"\\ufe0f\"  # dingbats\n",
    "                               u\"\\u3030\"\n",
    "                               \"]+\", flags=re.UNICODE)\n",
    "\n",
    "    without_emoji = emoji_pattern.sub(r'',text)\n",
    "    return without_emoji\n"
   ]
  },
  {
   "cell_type": "code",
   "execution_count": 28,
   "id": "f0bcb8ee",
   "metadata": {},
   "outputs": [],
   "source": [
    "data['text']=data['text'].apply(remove_emojis)"
   ]
  },
  {
   "cell_type": "code",
   "execution_count": 29,
   "id": "445668ea",
   "metadata": {},
   "outputs": [
    {
     "data": {
      "text/html": [
       "<div>\n",
       "<style scoped>\n",
       "    .dataframe tbody tr th:only-of-type {\n",
       "        vertical-align: middle;\n",
       "    }\n",
       "\n",
       "    .dataframe tbody tr th {\n",
       "        vertical-align: top;\n",
       "    }\n",
       "\n",
       "    .dataframe thead th {\n",
       "        text-align: right;\n",
       "    }\n",
       "</style>\n",
       "<table border=\"1\" class=\"dataframe\">\n",
       "  <thead>\n",
       "    <tr style=\"text-align: right;\">\n",
       "      <th></th>\n",
       "      <th>text</th>\n",
       "      <th>label</th>\n",
       "    </tr>\n",
       "  </thead>\n",
       "  <tbody>\n",
       "    <tr>\n",
       "      <th>0</th>\n",
       "      <td>just got back from seeing garydelaney in bursl...</td>\n",
       "      <td>joy</td>\n",
       "    </tr>\n",
       "    <tr>\n",
       "      <th>1</th>\n",
       "      <td>oh dear an evening of absolute hilarity i dont...</td>\n",
       "      <td>joy</td>\n",
       "    </tr>\n",
       "    <tr>\n",
       "      <th>2</th>\n",
       "      <td>been waiting all week for this game cheer friday</td>\n",
       "      <td>joy</td>\n",
       "    </tr>\n",
       "    <tr>\n",
       "      <th>3</th>\n",
       "      <td>gardinerlove thank you so much gloria youre so...</td>\n",
       "      <td>joy</td>\n",
       "    </tr>\n",
       "    <tr>\n",
       "      <th>4</th>\n",
       "      <td>i feel so blessed to work with the family that...</td>\n",
       "      <td>joy</td>\n",
       "    </tr>\n",
       "    <tr>\n",
       "      <th>5</th>\n",
       "      <td>today i reached one thousand subscribers on yt...</td>\n",
       "      <td>joy</td>\n",
       "    </tr>\n",
       "    <tr>\n",
       "      <th>6</th>\n",
       "      <td>singaholic one hundred and twentyone good morn...</td>\n",
       "      <td>joy</td>\n",
       "    </tr>\n",
       "    <tr>\n",
       "      <th>7</th>\n",
       "      <td>bridgetjonesbaby is the best thing ive seen in...</td>\n",
       "      <td>joy</td>\n",
       "    </tr>\n",
       "    <tr>\n",
       "      <th>8</th>\n",
       "      <td>just got back from seeing garydelaney in bursl...</td>\n",
       "      <td>joy</td>\n",
       "    </tr>\n",
       "    <tr>\n",
       "      <th>9</th>\n",
       "      <td>indymn i thought the holidays could not get an...</td>\n",
       "      <td>joy</td>\n",
       "    </tr>\n",
       "  </tbody>\n",
       "</table>\n",
       "</div>"
      ],
      "text/plain": [
       "                                                text label\n",
       "0  just got back from seeing garydelaney in bursl...   joy\n",
       "1  oh dear an evening of absolute hilarity i dont...   joy\n",
       "2   been waiting all week for this game cheer friday   joy\n",
       "3  gardinerlove thank you so much gloria youre so...   joy\n",
       "4  i feel so blessed to work with the family that...   joy\n",
       "5  today i reached one thousand subscribers on yt...   joy\n",
       "6  singaholic one hundred and twentyone good morn...   joy\n",
       "7  bridgetjonesbaby is the best thing ive seen in...   joy\n",
       "8  just got back from seeing garydelaney in bursl...   joy\n",
       "9  indymn i thought the holidays could not get an...   joy"
      ]
     },
     "execution_count": 29,
     "metadata": {},
     "output_type": "execute_result"
    }
   ],
   "source": [
    "data.head(10)"
   ]
  },
  {
   "cell_type": "markdown",
   "id": "b8722f36",
   "metadata": {},
   "source": [
    "##### Removing Stopwords from Text"
   ]
  },
  {
   "cell_type": "code",
   "execution_count": 30,
   "id": "c8cf0afc",
   "metadata": {},
   "outputs": [
    {
     "name": "stderr",
     "output_type": "stream",
     "text": [
      "[nltk_data] Downloading package stopwords to\n",
      "[nltk_data]     C:\\Users\\music\\AppData\\Roaming\\nltk_data...\n",
      "[nltk_data]   Package stopwords is already up-to-date!\n"
     ]
    }
   ],
   "source": [
    "import nltk\n",
    "nltk.download('stopwords')\n",
    "from nltk.corpus import stopwords\n",
    "stop = stopwords.words('english')"
   ]
  },
  {
   "cell_type": "code",
   "execution_count": 31,
   "id": "53f7467c",
   "metadata": {},
   "outputs": [],
   "source": [
    "data['text'] = data['text'].apply(lambda x: ' '.join([word for word in x.split() if word not in (stop)]))"
   ]
  },
  {
   "cell_type": "markdown",
   "id": "9d1314f5",
   "metadata": {},
   "source": [
    "##### Lemmetizing the text"
   ]
  },
  {
   "cell_type": "code",
   "execution_count": 32,
   "id": "91ae1246",
   "metadata": {},
   "outputs": [],
   "source": [
    "lemma = WordNetLemmatizer()\n",
    "def lemmatization(text):\n",
    "\n",
    "    # word tokenization\n",
    "    tokens = word_tokenize(text)\n",
    "\n",
    "    for index in range(len(tokens)):\n",
    "        # lemma word\n",
    "        lemma_word = lemma.lemmatize(tokens[index])\n",
    "        tokens[index] = lemma_word\n",
    "\n",
    "    return ' '.join(tokens)"
   ]
  },
  {
   "cell_type": "code",
   "execution_count": 33,
   "id": "bf779d7a",
   "metadata": {},
   "outputs": [],
   "source": [
    "# initialize lemmatizer object\n",
    "data['text']=data['text'].apply(lemmatization)"
   ]
  },
  {
   "cell_type": "markdown",
   "id": "ed64a54c",
   "metadata": {},
   "source": [
    "##### Tokenising to create bar plot with most frequent in each section and their frequency"
   ]
  },
  {
   "cell_type": "code",
   "execution_count": 34,
   "id": "786f6def",
   "metadata": {},
   "outputs": [],
   "source": [
    "from nltk import tokenize\n",
    "\n",
    "token_space = tokenize.WhitespaceTokenizer()\n",
    "\n",
    "def counter(text, column_text, quantity):\n",
    "    all_words = ' '.join([text for text in text[column_text]])\n",
    "    token_phrase = token_space.tokenize(all_words)\n",
    "    frequency = nltk.FreqDist(token_phrase)\n",
    "    df_frequency = pd.DataFrame({\"Word\": list(frequency.keys()),\n",
    "                                   \"Frequency\": list(frequency.values())})\n",
    "    df_frequency = df_frequency.nlargest(columns = \"Frequency\", n = quantity)\n",
    "    plt.figure(figsize=(12,8))\n",
    "    ax = sns.barplot(data = df_frequency, x = \"Word\", y = \"Frequency\", color = 'violet')\n",
    "    ax.set(ylabel = \"Count\")\n",
    "    plt.xticks(rotation='vertical')\n",
    "    plt.show()"
   ]
  },
  {
   "cell_type": "markdown",
   "id": "f9790676",
   "metadata": {},
   "source": [
    "##### Words in JOY Vs Frequency of word"
   ]
  },
  {
   "cell_type": "code",
   "execution_count": 35,
   "id": "8fe00079",
   "metadata": {},
   "outputs": [
    {
     "data": {
      "image/png": "[encoded data removed]",
      "text/plain": [
       "<Figure size 864x576 with 1 Axes>"
      ]
     },
     "metadata": {
      "needs_background": "light"
     },
     "output_type": "display_data"
    }
   ],
   "source": [
    "counter(data[data[\"label\"] == \"joy\"], \"text\", 40)"
   ]
  },
  {
   "cell_type": "markdown",
   "id": "d7a4b1e8",
   "metadata": {},
   "source": [
    "##### Words in FEAR Vs Frequency of word"
   ]
  },
  {
   "cell_type": "code",
   "execution_count": 36,
   "id": "9434f594",
   "metadata": {},
   "outputs": [
    {
     "data": {
      "image/png": "[encoded data removed]",
      "text/plain": [
       "<Figure size 864x576 with 1 Axes>"
      ]
     },
     "metadata": {
      "needs_background": "light"
     },
     "output_type": "display_data"
    }
   ],
   "source": [
    "counter(data[data[\"label\"] == \"fear\"], \"text\", 40)"
   ]
  },
  {
   "cell_type": "markdown",
   "id": "ccf4b49e",
   "metadata": {},
   "source": [
    "##### Words in ANGER Vs Frequency of word"
   ]
  },
  {
   "cell_type": "code",
   "execution_count": 37,
   "id": "9c86631d",
   "metadata": {},
   "outputs": [
    {
     "data": {
      "image/png": "[encoded data removed]",
      "text/plain": [
       "<Figure size 864x576 with 1 Axes>"
      ]
     },
     "metadata": {
      "needs_background": "light"
     },
     "output_type": "display_data"
    }
   ],
   "source": [
    "counter(data[data[\"label\"] == \"anger\"], \"text\", 40)"
   ]
  },
  {
   "cell_type": "markdown",
   "id": "d9b684c5",
   "metadata": {},
   "source": [
    "##### Words in SADNESS Vs Frequency of word"
   ]
  },
  {
   "cell_type": "code",
   "execution_count": 38,
   "id": "259eb5b7",
   "metadata": {},
   "outputs": [
    {
     "data": {
      "image/png": "[encoded data removed]",
      "text/plain": [
       "<Figure size 864x576 with 1 Axes>"
      ]
     },
     "metadata": {
      "needs_background": "light"
     },
     "output_type": "display_data"
    }
   ],
   "source": [
    "counter(data[data[\"label\"] == \"sadness\"], \"text\", 40)"
   ]
  },
  {
   "cell_type": "markdown",
   "id": "64e1f044",
   "metadata": {},
   "source": [
    "##### Label Encoding"
   ]
  },
  {
   "cell_type": "code",
   "execution_count": 39,
   "id": "719d8bc6",
   "metadata": {},
   "outputs": [],
   "source": [
    "label={'joy':1,'fear':2,'anger':3,'sadness':4}"
   ]
  },
  {
   "cell_type": "code",
   "execution_count": 40,
   "id": "d68861f9",
   "metadata": {},
   "outputs": [],
   "source": [
    "def labelencode(x):\n",
    "    return label[x]"
   ]
  },
  {
   "cell_type": "code",
   "execution_count": 41,
   "id": "e3d22e3c",
   "metadata": {},
   "outputs": [],
   "source": [
    "data['label']=data['label'].apply(labelencode)"
   ]
  },
  {
   "cell_type": "code",
   "execution_count": 42,
   "id": "03f715fa",
   "metadata": {},
   "outputs": [
    {
     "data": {
      "text/html": [
       "<div>\n",
       "<style scoped>\n",
       "    .dataframe tbody tr th:only-of-type {\n",
       "        vertical-align: middle;\n",
       "    }\n",
       "\n",
       "    .dataframe tbody tr th {\n",
       "        vertical-align: top;\n",
       "    }\n",
       "\n",
       "    .dataframe thead th {\n",
       "        text-align: right;\n",
       "    }\n",
       "</style>\n",
       "<table border=\"1\" class=\"dataframe\">\n",
       "  <thead>\n",
       "    <tr style=\"text-align: right;\">\n",
       "      <th></th>\n",
       "      <th>text</th>\n",
       "      <th>label</th>\n",
       "    </tr>\n",
       "  </thead>\n",
       "  <tbody>\n",
       "    <tr>\n",
       "      <th>0</th>\n",
       "      <td>got back seeing garydelaney burslem amazing fa...</td>\n",
       "      <td>1</td>\n",
       "    </tr>\n",
       "    <tr>\n",
       "      <th>1</th>\n",
       "      <td>oh dear evening absolute hilarity dont think l...</td>\n",
       "      <td>1</td>\n",
       "    </tr>\n",
       "    <tr>\n",
       "      <th>2</th>\n",
       "      <td>waiting week game cheer friday</td>\n",
       "      <td>1</td>\n",
       "    </tr>\n",
       "    <tr>\n",
       "      <th>3</th>\n",
       "      <td>gardinerlove thank much gloria youre sweet tho...</td>\n",
       "      <td>1</td>\n",
       "    </tr>\n",
       "    <tr>\n",
       "      <th>4</th>\n",
       "      <td>feel blessed work family nanny nothing love am...</td>\n",
       "      <td>1</td>\n",
       "    </tr>\n",
       "    <tr>\n",
       "      <th>5</th>\n",
       "      <td>today reached one thousand subscriber yt goodd...</td>\n",
       "      <td>1</td>\n",
       "    </tr>\n",
       "    <tr>\n",
       "      <th>6</th>\n",
       "      <td>singaholic one hundred twentyone good morning ...</td>\n",
       "      <td>1</td>\n",
       "    </tr>\n",
       "    <tr>\n",
       "      <th>7</th>\n",
       "      <td>bridgetjonesbaby best thing ive seen age funny...</td>\n",
       "      <td>1</td>\n",
       "    </tr>\n",
       "    <tr>\n",
       "      <th>8</th>\n",
       "      <td>got back seeing garydelaney burslem amazing fa...</td>\n",
       "      <td>1</td>\n",
       "    </tr>\n",
       "    <tr>\n",
       "      <th>9</th>\n",
       "      <td>indymn thought holiday could get cheerful met ...</td>\n",
       "      <td>1</td>\n",
       "    </tr>\n",
       "  </tbody>\n",
       "</table>\n",
       "</div>"
      ],
      "text/plain": [
       "                                                text  label\n",
       "0  got back seeing garydelaney burslem amazing fa...      1\n",
       "1  oh dear evening absolute hilarity dont think l...      1\n",
       "2                     waiting week game cheer friday      1\n",
       "3  gardinerlove thank much gloria youre sweet tho...      1\n",
       "4  feel blessed work family nanny nothing love am...      1\n",
       "5  today reached one thousand subscriber yt goodd...      1\n",
       "6  singaholic one hundred twentyone good morning ...      1\n",
       "7  bridgetjonesbaby best thing ive seen age funny...      1\n",
       "8  got back seeing garydelaney burslem amazing fa...      1\n",
       "9  indymn thought holiday could get cheerful met ...      1"
      ]
     },
     "execution_count": 42,
     "metadata": {},
     "output_type": "execute_result"
    }
   ],
   "source": [
    "data.head(10)"
   ]
  },
  {
   "cell_type": "markdown",
   "id": "9d5cceed",
   "metadata": {},
   "source": [
    "##### Train Test Split"
   ]
  },
  {
   "cell_type": "code",
   "execution_count": 43,
   "id": "ae9b9968",
   "metadata": {},
   "outputs": [],
   "source": [
    "x=data['text']\n",
    "y=data['label']"
   ]
  },
  {
   "cell_type": "code",
   "execution_count": 44,
   "id": "b00ef63e",
   "metadata": {},
   "outputs": [],
   "source": [
    "x_train,x_test,y_train,y_test=train_test_split(x,y,test_size=0.3,random_state=101)"
   ]
  },
  {
   "cell_type": "markdown",
   "id": "11f98467",
   "metadata": {},
   "source": [
    "##### TF-IDF Vectorizer to Convert a text into a Vector"
   ]
  },
  {
   "cell_type": "code",
   "execution_count": 45,
   "id": "4d9debf0",
   "metadata": {},
   "outputs": [],
   "source": [
    "tfidf_vectorizer=TfidfVectorizer(stop_words='english', max_df=0.7)\n",
    "tfidf_train=tfidf_vectorizer.fit_transform(x_train) \n",
    "tfidf_test=tfidf_vectorizer.transform(x_test)"
   ]
  },
  {
   "cell_type": "code",
   "execution_count": 46,
   "id": "e5792979",
   "metadata": {},
   "outputs": [
    {
     "data": {
      "text/plain": [
       "((2529, 7582), (1084, 7582))"
      ]
     },
     "execution_count": 46,
     "metadata": {},
     "output_type": "execute_result"
    }
   ],
   "source": [
    "tfidf_train.shape,tfidf_test.shape"
   ]
  },
  {
   "cell_type": "markdown",
   "id": "57952e44",
   "metadata": {},
   "source": [
    "##### Creating Pickle file to store Vectorizer Model"
   ]
  },
  {
   "cell_type": "code",
   "execution_count": 51,
   "id": "2152f17c",
   "metadata": {},
   "outputs": [],
   "source": [
    "Pkl_filename = \"tfidf.pkl\"  \n",
    "pickle.dump(tfidf_vectorizer, open(Pkl_filename, 'wb'))"
   ]
  },
  {
   "cell_type": "markdown",
   "id": "30054565",
   "metadata": {},
   "source": [
    "##### Classification Models"
   ]
  },
  {
   "cell_type": "markdown",
   "id": "3261a2c6",
   "metadata": {},
   "source": [
    "##### Logistics Regression"
   ]
  },
  {
   "cell_type": "code",
   "execution_count": 52,
   "id": "ac6b7c78",
   "metadata": {},
   "outputs": [],
   "source": [
    "lr=LogisticRegression(random_state=0)\n",
    "lr.fit(tfidf_train,y_train)\n",
    "yprediction1=lr.predict(tfidf_test)"
   ]
  },
  {
   "cell_type": "code",
   "execution_count": 53,
   "id": "6165f505",
   "metadata": {},
   "outputs": [
    {
     "name": "stdout",
     "output_type": "stream",
     "text": [
      "Accuaracy Percentage  0.8228782287822878\n"
     ]
    }
   ],
   "source": [
    "print(\"Accuaracy Percentage \",accuracy_score(yprediction1,y_test))"
   ]
  },
  {
   "cell_type": "code",
   "execution_count": 54,
   "id": "e417fd11",
   "metadata": {},
   "outputs": [
    {
     "name": "stdout",
     "output_type": "stream",
     "text": [
      "              precision    recall  f1-score   support\n",
      "\n",
      "           1       0.85      0.93      0.89       230\n",
      "           2       0.91      0.75      0.82       420\n",
      "           3       0.81      0.84      0.82       230\n",
      "           4       0.69      0.83      0.75       204\n",
      "\n",
      "    accuracy                           0.82      1084\n",
      "   macro avg       0.81      0.84      0.82      1084\n",
      "weighted avg       0.83      0.82      0.82      1084\n",
      "\n"
     ]
    }
   ],
   "source": [
    "print(classification_report(yprediction1, y_test))"
   ]
  },
  {
   "cell_type": "markdown",
   "id": "8d363a3e",
   "metadata": {},
   "source": [
    "##### Naive Bayes Classifier"
   ]
  },
  {
   "cell_type": "code",
   "execution_count": 55,
   "id": "d9eec187",
   "metadata": {},
   "outputs": [],
   "source": [
    "model_naive = naive_bayes.MultinomialNB()\n",
    "model_naive.fit(tfidf_train, y_train)\n",
    "yprediction2=model_naive.predict(tfidf_test)"
   ]
  },
  {
   "cell_type": "code",
   "execution_count": 56,
   "id": "abfefc58",
   "metadata": {},
   "outputs": [
    {
     "name": "stdout",
     "output_type": "stream",
     "text": [
      "Accuaracy Percentage  0.74\n"
     ]
    }
   ],
   "source": [
    "print(\"Accuaracy Percentage \",round(accuracy_score(yprediction2,y_test),2))"
   ]
  },
  {
   "cell_type": "code",
   "execution_count": 57,
   "id": "584eb890",
   "metadata": {},
   "outputs": [
    {
     "name": "stdout",
     "output_type": "stream",
     "text": [
      "              precision    recall  f1-score   support\n",
      "\n",
      "           1       0.71      0.91      0.80       195\n",
      "           2       0.94      0.61      0.74       539\n",
      "           3       0.71      0.85      0.77       201\n",
      "           4       0.51      0.85      0.64       149\n",
      "\n",
      "    accuracy                           0.74      1084\n",
      "   macro avg       0.72      0.80      0.74      1084\n",
      "weighted avg       0.80      0.74      0.74      1084\n",
      "\n"
     ]
    }
   ],
   "source": [
    "print(classification_report(yprediction2, y_test))"
   ]
  },
  {
   "cell_type": "markdown",
   "id": "6d459b9c",
   "metadata": {},
   "source": [
    "##### Decision Tree Classifier"
   ]
  },
  {
   "cell_type": "code",
   "execution_count": 58,
   "id": "8984059b",
   "metadata": {},
   "outputs": [],
   "source": [
    "dt=DecisionTreeClassifier(random_state=0)\n",
    "dt.fit(tfidf_train,y_train)\n",
    "yprediction3=dt.predict(tfidf_test)"
   ]
  },
  {
   "cell_type": "code",
   "execution_count": 59,
   "id": "b394c6b5",
   "metadata": {},
   "outputs": [
    {
     "name": "stdout",
     "output_type": "stream",
     "text": [
      "Accuaracy Percentage  0.8\n"
     ]
    }
   ],
   "source": [
    "print(\"Accuaracy Percentage \",round(accuracy_score(yprediction3,y_test),2))"
   ]
  },
  {
   "cell_type": "code",
   "execution_count": 60,
   "id": "65007a42",
   "metadata": {},
   "outputs": [
    {
     "name": "stdout",
     "output_type": "stream",
     "text": [
      "              precision    recall  f1-score   support\n",
      "\n",
      "           1       0.87      0.88      0.88       247\n",
      "           2       0.83      0.75      0.79       385\n",
      "           3       0.75      0.81      0.78       219\n",
      "           4       0.74      0.79      0.76       233\n",
      "\n",
      "    accuracy                           0.80      1084\n",
      "   macro avg       0.80      0.81      0.80      1084\n",
      "weighted avg       0.80      0.80      0.80      1084\n",
      "\n"
     ]
    }
   ],
   "source": [
    "print(classification_report(yprediction3, y_test))"
   ]
  },
  {
   "cell_type": "markdown",
   "id": "8dd9eaee",
   "metadata": {},
   "source": [
    "##### Random Forest Classifier"
   ]
  },
  {
   "cell_type": "code",
   "execution_count": 61,
   "id": "dd58e1c1",
   "metadata": {},
   "outputs": [],
   "source": [
    "rf=RandomForestClassifier(n_estimators=50)\n",
    "rf.fit(tfidf_train,y_train)\n",
    "yprediction4=rf.predict(tfidf_test)"
   ]
  },
  {
   "cell_type": "code",
   "execution_count": 62,
   "id": "07c31530",
   "metadata": {},
   "outputs": [
    {
     "name": "stdout",
     "output_type": "stream",
     "text": [
      "Accuaracy Percentage  0.83\n"
     ]
    }
   ],
   "source": [
    "print(\"Accuaracy Percentage \",round(accuracy_score(yprediction4,y_test),2))"
   ]
  },
  {
   "cell_type": "code",
   "execution_count": 63,
   "id": "98eb92d4",
   "metadata": {},
   "outputs": [
    {
     "name": "stdout",
     "output_type": "stream",
     "text": [
      "              precision    recall  f1-score   support\n",
      "\n",
      "           1       0.88      0.94      0.91       234\n",
      "           2       0.89      0.77      0.83       403\n",
      "           3       0.74      0.88      0.80       200\n",
      "           4       0.77      0.77      0.77       247\n",
      "\n",
      "    accuracy                           0.83      1084\n",
      "   macro avg       0.82      0.84      0.83      1084\n",
      "weighted avg       0.83      0.83      0.83      1084\n",
      "\n"
     ]
    }
   ],
   "source": [
    "print(classification_report(yprediction4, y_test))"
   ]
  },
  {
   "cell_type": "markdown",
   "id": "26f6c1e1",
   "metadata": {},
   "source": [
    "##### Support Vector Machine"
   ]
  },
  {
   "cell_type": "code",
   "execution_count": 64,
   "id": "d08369cd",
   "metadata": {},
   "outputs": [],
   "source": [
    "svm=LinearSVC()\n",
    "svm.fit(tfidf_train,y_train)\n",
    "yprediction5=svm.predict(tfidf_test)"
   ]
  },
  {
   "cell_type": "code",
   "execution_count": 65,
   "id": "1ab9020c",
   "metadata": {},
   "outputs": [
    {
     "name": "stdout",
     "output_type": "stream",
     "text": [
      "Accuaracy Percentage  0.85\n"
     ]
    }
   ],
   "source": [
    "print(\"Accuaracy Percentage \",round(accuracy_score(yprediction5,y_test),2))"
   ]
  },
  {
   "cell_type": "code",
   "execution_count": 66,
   "id": "bee969e7",
   "metadata": {},
   "outputs": [
    {
     "name": "stdout",
     "output_type": "stream",
     "text": [
      "              precision    recall  f1-score   support\n",
      "\n",
      "           1       0.92      0.93      0.93       246\n",
      "           2       0.87      0.84      0.86       361\n",
      "           3       0.84      0.83      0.83       239\n",
      "           4       0.77      0.79      0.78       238\n",
      "\n",
      "    accuracy                           0.85      1084\n",
      "   macro avg       0.85      0.85      0.85      1084\n",
      "weighted avg       0.85      0.85      0.85      1084\n",
      "\n"
     ]
    }
   ],
   "source": [
    "print(classification_report(yprediction5, y_test))"
   ]
  },
  {
   "cell_type": "markdown",
   "id": "7be5a208",
   "metadata": {},
   "source": [
    "##### Passive Agressive Classifier"
   ]
  },
  {
   "cell_type": "code",
   "execution_count": 67,
   "id": "c81d8742",
   "metadata": {},
   "outputs": [],
   "source": [
    "pac=PassiveAggressiveClassifier(max_iter=50)\n",
    "pac.fit(tfidf_train,y_train)\n",
    "yprediction6=pac.predict(tfidf_test)"
   ]
  },
  {
   "cell_type": "code",
   "execution_count": 68,
   "id": "87f4c66c",
   "metadata": {},
   "outputs": [
    {
     "name": "stdout",
     "output_type": "stream",
     "text": [
      "Accuaracy Percentage  0.84\n"
     ]
    }
   ],
   "source": [
    "print(\"Accuaracy Percentage \",round(accuracy_score(yprediction6,y_test),2))"
   ]
  },
  {
   "cell_type": "code",
   "execution_count": 69,
   "id": "035c8134",
   "metadata": {},
   "outputs": [
    {
     "name": "stdout",
     "output_type": "stream",
     "text": [
      "              precision    recall  f1-score   support\n",
      "\n",
      "           1       0.92      0.93      0.93       248\n",
      "           2       0.85      0.85      0.85       349\n",
      "           3       0.83      0.81      0.82       244\n",
      "           4       0.77      0.78      0.77       243\n",
      "\n",
      "    accuracy                           0.84      1084\n",
      "   macro avg       0.84      0.84      0.84      1084\n",
      "weighted avg       0.84      0.84      0.84      1084\n",
      "\n"
     ]
    }
   ],
   "source": [
    "print(classification_report(yprediction6, y_test))"
   ]
  },
  {
   "cell_type": "markdown",
   "id": "0fef91f2",
   "metadata": {},
   "source": [
    "##### Ada-Boost Classifier"
   ]
  },
  {
   "cell_type": "code",
   "execution_count": 70,
   "id": "3d1c723c",
   "metadata": {},
   "outputs": [],
   "source": [
    "clf = AdaBoostClassifier(n_estimators=200, random_state=0)\n",
    "clf.fit(tfidf_train,y_train)\n",
    "yprediction7=clf.predict(tfidf_test)"
   ]
  },
  {
   "cell_type": "code",
   "execution_count": 71,
   "id": "db6bf518",
   "metadata": {},
   "outputs": [
    {
     "name": "stdout",
     "output_type": "stream",
     "text": [
      "Accuaracy Percentage  0.75\n"
     ]
    }
   ],
   "source": [
    "print(\"Accuaracy Percentage \",round(accuracy_score(yprediction7,y_test),2))"
   ]
  },
  {
   "cell_type": "code",
   "execution_count": 72,
   "id": "89e10df1",
   "metadata": {},
   "outputs": [
    {
     "name": "stdout",
     "output_type": "stream",
     "text": [
      "              precision    recall  f1-score   support\n",
      "\n",
      "           1       0.75      0.92      0.83       204\n",
      "           2       0.93      0.64      0.76       504\n",
      "           3       0.65      0.84      0.73       184\n",
      "           4       0.62      0.80      0.70       192\n",
      "\n",
      "    accuracy                           0.75      1084\n",
      "   macro avg       0.74      0.80      0.75      1084\n",
      "weighted avg       0.79      0.75      0.76      1084\n",
      "\n"
     ]
    }
   ],
   "source": [
    "print(classification_report(yprediction7, y_test))"
   ]
  },
  {
   "cell_type": "markdown",
   "id": "6b717602",
   "metadata": {},
   "source": [
    "##### Gradient Boosting Classifier"
   ]
  },
  {
   "cell_type": "code",
   "execution_count": 73,
   "id": "1bc4a1e8",
   "metadata": {},
   "outputs": [],
   "source": [
    "gbc=GradientBoostingClassifier(n_estimators=100, learning_rate=1.0,max_depth=1, random_state=0)\n",
    "gbc.fit(tfidf_train,y_train)\n",
    "yprediction8=gbc.predict(tfidf_test)"
   ]
  },
  {
   "cell_type": "code",
   "execution_count": 74,
   "id": "8a27d790",
   "metadata": {},
   "outputs": [
    {
     "name": "stdout",
     "output_type": "stream",
     "text": [
      "Accuaracy Percentage  0.82\n"
     ]
    }
   ],
   "source": [
    "print(\"Accuaracy Percentage \",round(accuracy_score(yprediction8,y_test),2))"
   ]
  },
  {
   "cell_type": "code",
   "execution_count": 75,
   "id": "13e9de73",
   "metadata": {},
   "outputs": [
    {
     "name": "stdout",
     "output_type": "stream",
     "text": [
      "              precision    recall  f1-score   support\n",
      "\n",
      "           1       0.84      0.91      0.88       233\n",
      "           2       0.91      0.74      0.82       431\n",
      "           3       0.75      0.85      0.80       209\n",
      "           4       0.73      0.85      0.79       211\n",
      "\n",
      "    accuracy                           0.82      1084\n",
      "   macro avg       0.81      0.84      0.82      1084\n",
      "weighted avg       0.83      0.82      0.82      1084\n",
      "\n"
     ]
    }
   ],
   "source": [
    "print(classification_report(yprediction8, y_test))"
   ]
  },
  {
   "cell_type": "markdown",
   "id": "9a878e4b",
   "metadata": {},
   "source": [
    "#### Pickling model"
   ]
  },
  {
   "cell_type": "code",
   "execution_count": 76,
   "id": "8ed6384a",
   "metadata": {},
   "outputs": [],
   "source": [
    "Pkl_Filename = \"edm.pkl\"  \n",
    "pickle.dump(svm, open(Pkl_Filename, 'wb'))"
   ]
  },
  {
   "cell_type": "code",
   "execution_count": null,
   "id": "0c926294",
   "metadata": {},
   "outputs": [],
   "source": []
  }
 ],
 "metadata": {
  "kernelspec": {
   "display_name": "Python 3",
   "language": "python",
   "name": "python3"
  },
  "language_info": {
   "codemirror_mode": {
    "name": "ipython",
    "version": 3
   },
   "file_extension": ".py",
   "mimetype": "text/x-python",
   "name": "python",
   "nbconvert_exporter": "python",
   "pygments_lexer": "ipython3",
   "version": "3.8.8"
  }
 },
 "nbformat": 4,
 "nbformat_minor": 5
}
